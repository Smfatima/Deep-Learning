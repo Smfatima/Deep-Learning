{
  "nbformat": 4,
  "nbformat_minor": 0,
  "metadata": {
    "colab": {
      "name": "Sentiment Analysis using Movie review",
      "provenance": [],
      "authorship_tag": "ABX9TyNlVrML1t0gQitS4kFFo4Y1",
      "include_colab_link": true
    },
    "kernelspec": {
      "name": "python3",
      "display_name": "Python 3"
    },
    "accelerator": "GPU"
  },
  "cells": [
    {
      "cell_type": "markdown",
      "metadata": {
        "id": "view-in-github",
        "colab_type": "text"
      },
      "source": [
        "<a href=\"https://colab.research.google.com/github/Smfatima/Deep-Learning/blob/main/NLP/Sentiment_Analysis_using_Movie_review.ipynb\" target=\"_parent\"><img src=\"https://colab.research.google.com/assets/colab-badge.svg\" alt=\"Open In Colab\"/></a>"
      ]
    },
    {
      "cell_type": "code",
      "metadata": {
        "colab": {
          "base_uri": "https://localhost:8080/"
        },
        "id": "ICpAAi_KZBWx",
        "outputId": "c5f53321-5471-4004-f5e9-97dd10f4b31c"
      },
      "source": [
        "pip install keras.datasets"
      ],
      "execution_count": 1,
      "outputs": [
        {
          "output_type": "stream",
          "text": [
            "Collecting keras.datasets\n",
            "  Downloading https://files.pythonhosted.org/packages/07/20/9ed10cd3247cc29c362c77c52d820928ab4f955b7e1ba9e77a288b4c5f3c/keras_datasets-0.1.0-py2.py3-none-any.whl\n",
            "Installing collected packages: keras.datasets\n",
            "Successfully installed keras.datasets\n"
          ],
          "name": "stdout"
        }
      ]
    },
    {
      "cell_type": "code",
      "metadata": {
        "id": "USA2hhMRXqWV"
      },
      "source": [
        "#Import libraries\r\n",
        "from keras.datasets import imdb\r\n",
        "import tensorflow as tf\r\n",
        "import numpy as np\r\n",
        "import os\r\n",
        "from keras.preprocessing import sequence"
      ],
      "execution_count": 2,
      "outputs": []
    },
    {
      "cell_type": "code",
      "metadata": {
        "colab": {
          "base_uri": "https://localhost:8080/"
        },
        "id": "TzLaLBAoY63n",
        "outputId": "1e295b1e-321d-48be-b345-f746b3e09727"
      },
      "source": [
        "VOCAB_SIZE = 88584\r\n",
        "MAXLEN = 250\r\n",
        "BATCH_SIZE = 64\r\n",
        "\r\n",
        "(train_data, train_labels), (test_data, test_labels) = imdb.load_data(num_words=VOCAB_SIZE)\r\n",
        "\r\n",
        "#Look at one review\r\n",
        "train_data[0]"
      ],
      "execution_count": 3,
      "outputs": [
        {
          "output_type": "stream",
          "text": [
            "Downloading data from https://storage.googleapis.com/tensorflow/tf-keras-datasets/imdb.npz\n",
            "17465344/17464789 [==============================] - 0s 0us/step\n"
          ],
          "name": "stdout"
        },
        {
          "output_type": "stream",
          "text": [
            "<string>:6: VisibleDeprecationWarning: Creating an ndarray from ragged nested sequences (which is a list-or-tuple of lists-or-tuples-or ndarrays with different lengths or shapes) is deprecated. If you meant to do this, you must specify 'dtype=object' when creating the ndarray\n",
            "/usr/local/lib/python3.6/dist-packages/tensorflow/python/keras/datasets/imdb.py:159: VisibleDeprecationWarning: Creating an ndarray from ragged nested sequences (which is a list-or-tuple of lists-or-tuples-or ndarrays with different lengths or shapes) is deprecated. If you meant to do this, you must specify 'dtype=object' when creating the ndarray\n",
            "  x_train, y_train = np.array(xs[:idx]), np.array(labels[:idx])\n",
            "/usr/local/lib/python3.6/dist-packages/tensorflow/python/keras/datasets/imdb.py:160: VisibleDeprecationWarning: Creating an ndarray from ragged nested sequences (which is a list-or-tuple of lists-or-tuples-or ndarrays with different lengths or shapes) is deprecated. If you meant to do this, you must specify 'dtype=object' when creating the ndarray\n",
            "  x_test, y_test = np.array(xs[idx:]), np.array(labels[idx:])\n"
          ],
          "name": "stderr"
        },
        {
          "output_type": "execute_result",
          "data": {
            "text/plain": [
              "[1,\n",
              " 14,\n",
              " 22,\n",
              " 16,\n",
              " 43,\n",
              " 530,\n",
              " 973,\n",
              " 1622,\n",
              " 1385,\n",
              " 65,\n",
              " 458,\n",
              " 4468,\n",
              " 66,\n",
              " 3941,\n",
              " 4,\n",
              " 173,\n",
              " 36,\n",
              " 256,\n",
              " 5,\n",
              " 25,\n",
              " 100,\n",
              " 43,\n",
              " 838,\n",
              " 112,\n",
              " 50,\n",
              " 670,\n",
              " 22665,\n",
              " 9,\n",
              " 35,\n",
              " 480,\n",
              " 284,\n",
              " 5,\n",
              " 150,\n",
              " 4,\n",
              " 172,\n",
              " 112,\n",
              " 167,\n",
              " 21631,\n",
              " 336,\n",
              " 385,\n",
              " 39,\n",
              " 4,\n",
              " 172,\n",
              " 4536,\n",
              " 1111,\n",
              " 17,\n",
              " 546,\n",
              " 38,\n",
              " 13,\n",
              " 447,\n",
              " 4,\n",
              " 192,\n",
              " 50,\n",
              " 16,\n",
              " 6,\n",
              " 147,\n",
              " 2025,\n",
              " 19,\n",
              " 14,\n",
              " 22,\n",
              " 4,\n",
              " 1920,\n",
              " 4613,\n",
              " 469,\n",
              " 4,\n",
              " 22,\n",
              " 71,\n",
              " 87,\n",
              " 12,\n",
              " 16,\n",
              " 43,\n",
              " 530,\n",
              " 38,\n",
              " 76,\n",
              " 15,\n",
              " 13,\n",
              " 1247,\n",
              " 4,\n",
              " 22,\n",
              " 17,\n",
              " 515,\n",
              " 17,\n",
              " 12,\n",
              " 16,\n",
              " 626,\n",
              " 18,\n",
              " 19193,\n",
              " 5,\n",
              " 62,\n",
              " 386,\n",
              " 12,\n",
              " 8,\n",
              " 316,\n",
              " 8,\n",
              " 106,\n",
              " 5,\n",
              " 4,\n",
              " 2223,\n",
              " 5244,\n",
              " 16,\n",
              " 480,\n",
              " 66,\n",
              " 3785,\n",
              " 33,\n",
              " 4,\n",
              " 130,\n",
              " 12,\n",
              " 16,\n",
              " 38,\n",
              " 619,\n",
              " 5,\n",
              " 25,\n",
              " 124,\n",
              " 51,\n",
              " 36,\n",
              " 135,\n",
              " 48,\n",
              " 25,\n",
              " 1415,\n",
              " 33,\n",
              " 6,\n",
              " 22,\n",
              " 12,\n",
              " 215,\n",
              " 28,\n",
              " 77,\n",
              " 52,\n",
              " 5,\n",
              " 14,\n",
              " 407,\n",
              " 16,\n",
              " 82,\n",
              " 10311,\n",
              " 8,\n",
              " 4,\n",
              " 107,\n",
              " 117,\n",
              " 5952,\n",
              " 15,\n",
              " 256,\n",
              " 4,\n",
              " 31050,\n",
              " 7,\n",
              " 3766,\n",
              " 5,\n",
              " 723,\n",
              " 36,\n",
              " 71,\n",
              " 43,\n",
              " 530,\n",
              " 476,\n",
              " 26,\n",
              " 400,\n",
              " 317,\n",
              " 46,\n",
              " 7,\n",
              " 4,\n",
              " 12118,\n",
              " 1029,\n",
              " 13,\n",
              " 104,\n",
              " 88,\n",
              " 4,\n",
              " 381,\n",
              " 15,\n",
              " 297,\n",
              " 98,\n",
              " 32,\n",
              " 2071,\n",
              " 56,\n",
              " 26,\n",
              " 141,\n",
              " 6,\n",
              " 194,\n",
              " 7486,\n",
              " 18,\n",
              " 4,\n",
              " 226,\n",
              " 22,\n",
              " 21,\n",
              " 134,\n",
              " 476,\n",
              " 26,\n",
              " 480,\n",
              " 5,\n",
              " 144,\n",
              " 30,\n",
              " 5535,\n",
              " 18,\n",
              " 51,\n",
              " 36,\n",
              " 28,\n",
              " 224,\n",
              " 92,\n",
              " 25,\n",
              " 104,\n",
              " 4,\n",
              " 226,\n",
              " 65,\n",
              " 16,\n",
              " 38,\n",
              " 1334,\n",
              " 88,\n",
              " 12,\n",
              " 16,\n",
              " 283,\n",
              " 5,\n",
              " 16,\n",
              " 4472,\n",
              " 113,\n",
              " 103,\n",
              " 32,\n",
              " 15,\n",
              " 16,\n",
              " 5345,\n",
              " 19,\n",
              " 178,\n",
              " 32]"
            ]
          },
          "metadata": {
            "tags": []
          },
          "execution_count": 3
        }
      ]
    },
    {
      "cell_type": "code",
      "metadata": {
        "id": "tTOcHRBkZucF"
      },
      "source": [
        "#more preprocessing\r\n",
        "train_data = sequence.pad_sequences(train_data, MAXLEN)\r\n",
        "test_data = sequence.pad_sequences(test_data, MAXLEN)"
      ],
      "execution_count": 4,
      "outputs": []
    },
    {
      "cell_type": "code",
      "metadata": {
        "colab": {
          "base_uri": "https://localhost:8080/"
        },
        "id": "RGIHbgI_aLm3",
        "outputId": "70a59578-8a8d-41d0-f7cb-daf550438e40"
      },
      "source": [
        "#Creating the model\r\n",
        "model = tf.keras.Sequential([\r\n",
        "                             tf.keras.layers.Embedding(VOCAB_SIZE, 32),\r\n",
        "                             tf.keras.layers.LSTM(32),\r\n",
        "                             tf.keras.layers.Dense(1, activation='sigmoid')\r\n",
        "])\r\n",
        "\r\n",
        "model.summary()"
      ],
      "execution_count": 5,
      "outputs": [
        {
          "output_type": "stream",
          "text": [
            "Model: \"sequential\"\n",
            "_________________________________________________________________\n",
            "Layer (type)                 Output Shape              Param #   \n",
            "=================================================================\n",
            "embedding (Embedding)        (None, None, 32)          2834688   \n",
            "_________________________________________________________________\n",
            "lstm (LSTM)                  (None, 32)                8320      \n",
            "_________________________________________________________________\n",
            "dense (Dense)                (None, 1)                 33        \n",
            "=================================================================\n",
            "Total params: 2,843,041\n",
            "Trainable params: 2,843,041\n",
            "Non-trainable params: 0\n",
            "_________________________________________________________________\n"
          ],
          "name": "stdout"
        }
      ]
    },
    {
      "cell_type": "code",
      "metadata": {
        "colab": {
          "base_uri": "https://localhost:8080/"
        },
        "id": "fz65DTUUazEv",
        "outputId": "7038056b-e027-42aa-f397-c551d01cf684"
      },
      "source": [
        "#Training\r\n",
        "model.compile(loss='binary_crossentropy', optimizer = 'rmsprop', metrics = ['accuracy'])\r\n",
        "history = model.fit(train_data, train_labels, epochs = 10, validation_split = 0.2)"
      ],
      "execution_count": 6,
      "outputs": [
        {
          "output_type": "stream",
          "text": [
            "Epoch 1/10\n",
            "625/625 [==============================] - 21s 22ms/step - loss: 0.5273 - accuracy: 0.7271 - val_loss: 0.3248 - val_accuracy: 0.8708\n",
            "Epoch 2/10\n",
            "625/625 [==============================] - 13s 20ms/step - loss: 0.2303 - accuracy: 0.9157 - val_loss: 0.2870 - val_accuracy: 0.8856\n",
            "Epoch 3/10\n",
            "625/625 [==============================] - 13s 20ms/step - loss: 0.1702 - accuracy: 0.9366 - val_loss: 0.2679 - val_accuracy: 0.8910\n",
            "Epoch 4/10\n",
            "625/625 [==============================] - 13s 20ms/step - loss: 0.1419 - accuracy: 0.9507 - val_loss: 0.3369 - val_accuracy: 0.8648\n",
            "Epoch 5/10\n",
            "625/625 [==============================] - 13s 20ms/step - loss: 0.1194 - accuracy: 0.9586 - val_loss: 0.5443 - val_accuracy: 0.8374\n",
            "Epoch 6/10\n",
            "625/625 [==============================] - 13s 20ms/step - loss: 0.1070 - accuracy: 0.9652 - val_loss: 0.4714 - val_accuracy: 0.8558\n",
            "Epoch 7/10\n",
            "625/625 [==============================] - 13s 20ms/step - loss: 0.0948 - accuracy: 0.9688 - val_loss: 0.5373 - val_accuracy: 0.8454\n",
            "Epoch 8/10\n",
            "625/625 [==============================] - 13s 20ms/step - loss: 0.0851 - accuracy: 0.9719 - val_loss: 0.3513 - val_accuracy: 0.8892\n",
            "Epoch 9/10\n",
            "625/625 [==============================] - 13s 20ms/step - loss: 0.0726 - accuracy: 0.9763 - val_loss: 0.3553 - val_accuracy: 0.8880\n",
            "Epoch 10/10\n",
            "625/625 [==============================] - 13s 20ms/step - loss: 0.0666 - accuracy: 0.9792 - val_loss: 0.8848 - val_accuracy: 0.8198\n"
          ],
          "name": "stdout"
        }
      ]
    },
    {
      "cell_type": "code",
      "metadata": {
        "colab": {
          "base_uri": "https://localhost:8080/"
        },
        "id": "n52qWgibxT0e",
        "outputId": "0e0093a5-f31e-4a1c-d1e4-773ede238f2c"
      },
      "source": [
        "#evaluate model\r\n",
        "result = model.evaluate(test_data, test_labels)\r\n",
        "print(result)"
      ],
      "execution_count": 7,
      "outputs": [
        {
          "output_type": "stream",
          "text": [
            "782/782 [==============================] - 5s 6ms/step - loss: 0.9628 - accuracy: 0.7990\n",
            "[0.9627827405929565, 0.7990400195121765]\n"
          ],
          "name": "stdout"
        }
      ]
    },
    {
      "cell_type": "code",
      "metadata": {
        "colab": {
          "base_uri": "https://localhost:8080/"
        },
        "id": "izupkXNIykEZ",
        "outputId": "6ad96971-9861-46bd-ef15-8eef9e54e1d1"
      },
      "source": [
        "#Making predictions\r\n",
        "word_index = imdb.get_word_index()\r\n",
        "\r\n",
        "def encode_text(text):\r\n",
        "  tokens = tf.keras.preprocessing.text.text_to_word_sequence(text)\r\n",
        "  tokens = [word_index[word] if word in word_index else 0 for word in tokens]\r\n",
        "  return sequence.pad_sequences([tokens], MAXLEN)[0]\r\n",
        "\r\n",
        "text = \"that movie was just amazing\"\r\n",
        "encoded = encode_text(text)\r\n",
        "print(encoded)"
      ],
      "execution_count": 10,
      "outputs": [
        {
          "output_type": "stream",
          "text": [
            "[  0   0   0   0   0   0   0   0   0   0   0   0   0   0   0   0   0   0\n",
            "   0   0   0   0   0   0   0   0   0   0   0   0   0   0   0   0   0   0\n",
            "   0   0   0   0   0   0   0   0   0   0   0   0   0   0   0   0   0   0\n",
            "   0   0   0   0   0   0   0   0   0   0   0   0   0   0   0   0   0   0\n",
            "   0   0   0   0   0   0   0   0   0   0   0   0   0   0   0   0   0   0\n",
            "   0   0   0   0   0   0   0   0   0   0   0   0   0   0   0   0   0   0\n",
            "   0   0   0   0   0   0   0   0   0   0   0   0   0   0   0   0   0   0\n",
            "   0   0   0   0   0   0   0   0   0   0   0   0   0   0   0   0   0   0\n",
            "   0   0   0   0   0   0   0   0   0   0   0   0   0   0   0   0   0   0\n",
            "   0   0   0   0   0   0   0   0   0   0   0   0   0   0   0   0   0   0\n",
            "   0   0   0   0   0   0   0   0   0   0   0   0   0   0   0   0   0   0\n",
            "   0   0   0   0   0   0   0   0   0   0   0   0   0   0   0   0   0   0\n",
            "   0   0   0   0   0   0   0   0   0   0   0   0   0   0   0   0   0   0\n",
            "   0   0   0   0   0   0   0   0   0   0   0  12  17  13  40 477]\n"
          ],
          "name": "stdout"
        }
      ]
    },
    {
      "cell_type": "code",
      "metadata": {
        "colab": {
          "base_uri": "https://localhost:8080/"
        },
        "id": "zh6Y7vuW3Uyn",
        "outputId": "a1efb21d-c562-4389-f575-5b64f5806d33"
      },
      "source": [
        "#decode function\r\n",
        "reverse_word_index = {value:key for (key, value) in word_index.items()}\r\n",
        "\r\n",
        "def decode_integer(integers):\r\n",
        "  PAD = 0\r\n",
        "  text = \"\"\r\n",
        "  for num in integers:\r\n",
        "    if num != PAD:\r\n",
        "      text += reverse_word_index[num] + \" \"\r\n",
        "  return text[:-1]\r\n",
        "print(decode_integer(encoded))"
      ],
      "execution_count": 12,
      "outputs": [
        {
          "output_type": "stream",
          "text": [
            "that movie was just amazing\n"
          ],
          "name": "stdout"
        }
      ]
    },
    {
      "cell_type": "code",
      "metadata": {
        "colab": {
          "base_uri": "https://localhost:8080/"
        },
        "id": "tRzE56Ea5HFm",
        "outputId": "5201489f-5884-48cf-84da-5a7cdd6ad65a"
      },
      "source": [
        "#make predictions\r\n",
        "def predict(text):\r\n",
        "  encoded_text = encode_text(text)\r\n",
        "  pred = np.zeros((1, 250))\r\n",
        "  pred[0] = encoded_text\r\n",
        "  result = model.predict(pred)\r\n",
        "  if result > 0.60:\r\n",
        "    print(\"Positive\")\r\n",
        "  else:\r\n",
        "    print(\"Negative\")\r\n",
        "\r\n",
        "positive_review = \"That was awesome movie, really loved it\"\r\n",
        "predict(positive_review)\r\n",
        "\r\n",
        "negative_review = \"That movie sucked, I hated it, wouldn't want to watch it again. was one of the worst thing I've ever watched\"\r\n",
        "predict(negative_review)"
      ],
      "execution_count": 34,
      "outputs": [
        {
          "output_type": "stream",
          "text": [
            "Positive\n",
            "Negative\n"
          ],
          "name": "stdout"
        }
      ]
    },
    {
      "cell_type": "code",
      "metadata": {
        "id": "4-lQ1_aP_Jlu"
      },
      "source": [
        ""
      ],
      "execution_count": null,
      "outputs": []
    }
  ]
}