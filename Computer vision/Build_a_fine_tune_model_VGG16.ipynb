{
  "nbformat": 4,
  "nbformat_minor": 0,
  "metadata": {
    "colab": {
      "name": "Build a fine tune model -- VGG16",
      "provenance": [],
      "collapsed_sections": [],
      "authorship_tag": "ABX9TyPDrjLoLLOqfuoz84+bQ/W7",
      "include_colab_link": true
    },
    "kernelspec": {
      "name": "python3",
      "display_name": "Python 3"
    }
  },
  "cells": [
    {
      "cell_type": "markdown",
      "metadata": {
        "id": "view-in-github",
        "colab_type": "text"
      },
      "source": [
        "<a href=\"https://colab.research.google.com/github/Smfatima/Deep-Learning/blob/main/Computer%20vision/Build_a_fine_tune_model_VGG16.ipynb\" target=\"_parent\"><img src=\"https://colab.research.google.com/assets/colab-badge.svg\" alt=\"Open In Colab\"/></a>"
      ]
    },
    {
      "cell_type": "code",
      "metadata": {
        "id": "1evugfzy1aDE"
      },
      "source": [
        "#download model\r\n",
        "vgg16_model = tf.keras.applications.vgg16.VGG16()\r\n",
        "vgg16_model.summary()"
      ],
      "execution_count": null,
      "outputs": []
    },
    {
      "cell_type": "code",
      "metadata": {
        "id": "YuOnuoDF17gH"
      },
      "source": [
        "#Coverting a functional model into sequential\r\n",
        "model = Sequential()\r\n",
        "for layer in vgg16_model.layers[:-1]:\r\n",
        "  model.add(layer)\r\n",
        "\r\n",
        "model.summary()"
      ],
      "execution_count": null,
      "outputs": []
    },
    {
      "cell_type": "code",
      "metadata": {
        "id": "r5vtu5Sz2gYe"
      },
      "source": [
        "for layer in model.layers:\r\n",
        "  layer.trainable = False\r\n",
        "\r\n",
        "model.add(Dense(units = 2, activation = 'softmax'))\r\n",
        "model.summary()"
      ],
      "execution_count": null,
      "outputs": []
    },
    {
      "cell_type": "code",
      "metadata": {
        "id": "lb6nJVTk32Bu"
      },
      "source": [
        "train_batches = ImageDataGenerator(preprocessing_function=tf.keras.applications.vgg16.preprocess_input)\\.flow_from_directory(directory = train_path, target_size = (224, 224), classes = ['cat', 'dog'], batch_size = 10)\r\n",
        "\r\n",
        "valid_batches = ImageDataGenerator(preprocessing_function=tf.keras.applications.vgg16.preprocess_input)\\.flow_from_directory(directory = valid_path, target_size = (224, 224), classes = ['cat', 'dog'], batch_size = 10)\r\n",
        "\r\n",
        "test_batches = ImageDataGenerator(preprocessing_function=tf.keras.applications.vgg16.preprocess_input)\\.flow_from_directory(directory = test_path, target_size = (224, 224), classes = ['cat', 'dog'], batch_size = 10, shuffle = False)\r\n"
      ],
      "execution_count": null,
      "outputs": []
    },
    {
      "cell_type": "code",
      "metadata": {
        "id": "-71juuUA209O"
      },
      "source": [
        "#train the fine tune VGG16 model\r\n",
        "model.compile(optimizer=Adam(learning_rate=0.001), loss = 'categorical_crossentropy', metrics=['accuracy'])\r\n",
        "model.fit(x=train_batches, validation_data = validation_batches, epochs=10, verbose=2)\r\n",
        "\r\n",
        "assert model.history.history.get('accuracy')[-1] > 0.95"
      ],
      "execution_count": null,
      "outputs": []
    },
    {
      "cell_type": "code",
      "metadata": {
        "id": "A_iRLX553sYf"
      },
      "source": [
        "predictions = model.predict(x=test_batches, verbose=0)"
      ],
      "execution_count": null,
      "outputs": []
    },
    {
      "cell_type": "code",
      "metadata": {
        "id": "N3KbPDOc4ExZ"
      },
      "source": [
        "test_batches.classes"
      ],
      "execution_count": null,
      "outputs": []
    },
    {
      "cell_type": "code",
      "metadata": {
        "id": "Gs9ByngU4H2a"
      },
      "source": [
        "cm = confusion_matrix(y_true=test_batches.classes, y_pred=np.argmax(predictions, axis=-1))"
      ],
      "execution_count": null,
      "outputs": []
    },
    {
      "cell_type": "code",
      "metadata": {
        "id": "nQ3WzQxP4g58"
      },
      "source": [
        "test_batches.class_indices"
      ],
      "execution_count": null,
      "outputs": []
    },
    {
      "cell_type": "code",
      "metadata": {
        "id": "-lZ8QL1U4w8a"
      },
      "source": [
        "cm_plot_labels = ['cat', 'dog']\r\n",
        "\r\n",
        "def plot_confusion_matrix(cm, classes, normalize=False, title='Confusion_mstrix', cmap=plt.cm.Blues):\r\n",
        "  plt.imshow(cm,interpolation='nearest', cmap=cmap)\r\n",
        "  plt.title(title)\r\n",
        "  plt.colorbar()\r\n",
        "\r\n",
        "cm_plot_labels = ['cat', 'dog']\r\n",
        "plot_confusion_matrix(cm=cm,classes=cm_plot_labels)"
      ],
      "execution_count": null,
      "outputs": []
    }
  ]
}