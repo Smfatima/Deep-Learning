{
  "nbformat": 4,
  "nbformat_minor": 0,
  "metadata": {
    "colab": {
      "name": "Dog vs cat using VGG-16",
      "provenance": [],
      "collapsed_sections": [],
      "mount_file_id": "1OLAUtXVHpH7P_v1L0bXAjv0rJhlIvq5n",
      "authorship_tag": "ABX9TyOG3OfLD24B6ZvknMKp2ZWZ",
      "include_colab_link": true
    },
    "kernelspec": {
      "name": "python3",
      "display_name": "Python 3"
    }
  },
  "cells": [
    {
      "cell_type": "markdown",
      "metadata": {
        "id": "view-in-github",
        "colab_type": "text"
      },
      "source": [
        "<a href=\"https://colab.research.google.com/github/Smfatima/Deep-Learning/blob/main/Computer%20vision/Dog_vs_cat_using_VGG_16.ipynb\" target=\"_parent\"><img src=\"https://colab.research.google.com/assets/colab-badge.svg\" alt=\"Open In Colab\"/></a>"
      ]
    },
    {
      "cell_type": "code",
      "metadata": {
        "id": "AVMfDTfpYY7y"
      },
      "source": [
        "%tensorflow_version 2.x"
      ],
      "execution_count": 1,
      "outputs": []
    },
    {
      "cell_type": "code",
      "metadata": {
        "id": "G_TDXJnuF1RE"
      },
      "source": [
        "#import Libraries\r\n",
        "import numpy as np\r\n",
        "import tensorflow as tf\r\n",
        "from tensorflow.keras.models import Sequential\r\n",
        "from tensorflow.keras.layers import Dense, Flatten, Activation, BatchNormalization, Conv2D, MaxPool2D\r\n",
        "from tensorflow.keras.optimizers import Adam\r\n",
        "from tensorflow.keras.losses import categorical_crossentropy\r\n",
        "from tensorflow.keras.preprocessing.image import ImageDataGenerator\r\n",
        "from sklearn.metrics import confusion_matrix\r\n",
        "\r\n",
        "import itertools\r\n",
        "import os\r\n",
        "import shutil\r\n",
        "import random\r\n",
        "import glob\r\n",
        "import matplotlib.pyplot as plt\r\n",
        "import warnings\r\n",
        "\r\n",
        "warnings.simplefilter(action='ignore', category = FutureWarning)\r\n",
        "%matplotlib inline"
      ],
      "execution_count": 2,
      "outputs": []
    },
    {
      "cell_type": "code",
      "metadata": {
        "id": "FyjklR2wvtv7"
      },
      "source": [
        "#Data preparation\r\n",
        "os.chdir('/content/drive/MyDrive/Data/dogs-vs-cats.zip (Unzipped Files)/test1.zip (Unzipped Files)')\r\n",
        "if os.path.isdir('train/dog') is False:\r\n",
        "\r\n",
        "  os.makedirs('train/dogs')\r\n",
        "  os.makedirs('train/cats')\r\n",
        "  os.makedirs('valid/dogs')\r\n",
        "  os.makedirs('valid/cats')\r\n",
        "  os.makedirs('test/dogs')\r\n",
        "  os.makedirs('test/cats')\r\n",
        "\r\n",
        "for c in random.choice(len(1000)):\r\n",
        "  shutil.move(c, 'train/cat')\r\n",
        "for c in random.choice(glob.glob('dog'), 1000):\r\n",
        "  shutil.move(c, 'train/dog')\r\n",
        "for c in random.sample(glob.glob('cat'), 1000):\r\n",
        "  shutil.move(c, 'valid/cat')\r\n",
        "for c in random.sample(glob.glob('dog'), 1000):\r\n",
        "  shutil.move(c, 'valid/cat')\r\n",
        "for c in random.sample(glob.glob('cat'), 1000):\r\n",
        "  shutil.move(c, 'test/cat')\r\n",
        "for c in random.sample(glob.glob('dog'), 1000):\r\n",
        "  shutil.move(c, 'test/dog')\r\n",
        "\r\n",
        "os.chdir('../../')"
      ],
      "execution_count": null,
      "outputs": []
    },
    {
      "cell_type": "code",
      "metadata": {
        "id": "ChVz4kwkJv8u"
      },
      "source": [
        "train_path = 'data/dogs_vs_cats/train'\r\n",
        "valid_path = 'data/dogs_vs_cats/valid'\r\n",
        "test_path = 'data/dogs_vs_cats/test'"
      ],
      "execution_count": null,
      "outputs": []
    },
    {
      "cell_type": "code",
      "metadata": {
        "id": "hBwtg3DoJ_m6"
      },
      "source": [
        "train_batches = ImageDataGenerator(preprocessing_function=tf.keras.applications.vgg16.preprocess_input)\\.flow_from_directory(directory = train_path, target_size = (224, 224), classes = ['cat', 'dog'], batch_size = 10)\r\n",
        "\r\n",
        "valid_batches = ImageDataGenerator(preprocessing_function=tf.keras.applications.vgg16.preprocess_input)\\.flow_from_directory(directory = valid_path, target_size = (224, 224), classes = ['cat', 'dog'], batch_size = 10)\r\n",
        "\r\n",
        "test_batches = ImageDataGenerator(preprocessing_function=tf.keras.applications.vgg16.preprocess_input)\\.flow_from_directory(directory = test_path, target_size = (224, 224), classes = ['cat', 'dog'], batch_size = 10, shuffle = False)\r\n"
      ],
      "execution_count": null,
      "outputs": []
    },
    {
      "cell_type": "code",
      "metadata": {
        "id": "1nG9IEvjMpyh"
      },
      "source": [
        "assert train_batches.n == 1000\r\n",
        "assert valid_batches.n == 200\r\n",
        "assert test_batches.n == 100\r\n",
        "\r\n",
        "assert train_batches.num_classes == valid_batches.num_classes == test_batches.num_classes == 2"
      ],
      "execution_count": null,
      "outputs": []
    },
    {
      "cell_type": "code",
      "metadata": {
        "id": "Q5oiRAb2g1xx"
      },
      "source": [
        "imgs, labels = next(train_batches)"
      ],
      "execution_count": null,
      "outputs": []
    },
    {
      "cell_type": "code",
      "metadata": {
        "id": "uiQKk_7ng-d4"
      },
      "source": [
        "def plotImages(images_arr):\r\n",
        "  fig, axes = plt.subplot(1, 10, figsize = (20, 20))\r\n",
        "  axes = axes.flatten()\r\n",
        "  for img, ax in zip(images_arr, axes):\r\n",
        "    ax.imshow(img)\r\n",
        "    ax.axis('off')\r\n",
        "  plt.tight_layout()\r\n",
        "  plt.show()\r\n",
        "  plotImages(imgs)\r\n",
        "  print(labels)"
      ],
      "execution_count": null,
      "outputs": []
    },
    {
      "cell_type": "code",
      "metadata": {
        "id": "l6jRmYDVudjl"
      },
      "source": [
        "#build and train a cnn\r\n",
        "model = Sequential([\r\n",
        "                    Conv2D(filters = 32, kernel_size = (3,3), activation = 'relu', padding = 'same', input_shape = (224, 224, 3)),\r\n",
        "                    MaxPool2D(pool_size = (2,2), strides=2),\r\n",
        "                    Conv2D(filters = 64, kernel_size = (3,3), activation = 'relu', padding = 'same'),\r\n",
        "                    MaxPool2D(pool_size = (2,2), strides=2),\r\n",
        "                    Flatten(),\r\n",
        "                    Dense(units = 2, activation = 'softmax')\r\n",
        "\r\n",
        "])\r\n",
        "\r\n",
        "model.summary()"
      ],
      "execution_count": null,
      "outputs": []
    },
    {
      "cell_type": "code",
      "metadata": {
        "id": "5tQ7VldOv0aW"
      },
      "source": [
        "model.complie(optimizer = Adam(learning_rate=0.001), loss = 'categorical_crossentropy', metrics = ['accuracy'])\r\n",
        "\r\n",
        "model.fit(x=train_batches, validation_data=valid_batches, epochs=10, verbose=2)"
      ],
      "execution_count": null,
      "outputs": []
    },
    {
      "cell_type": "code",
      "metadata": {
        "id": "_gdrkm8Axa1i"
      },
      "source": [
        "#Predict\r\n",
        "test_imgs, test_labels = next(test_batches)\r\n",
        "plotImages(test_imgs)\r\n",
        "print(test_labels)"
      ],
      "execution_count": null,
      "outputs": []
    },
    {
      "cell_type": "code",
      "metadata": {
        "id": "R8lOOIrlxwmo"
      },
      "source": [
        "test_batches.classes"
      ],
      "execution_count": null,
      "outputs": []
    },
    {
      "cell_type": "code",
      "metadata": {
        "id": "L7mehy1UyXEK"
      },
      "source": [
        "predictions = model.predict(x=test_batches, verbose=0)\r\n",
        "np.round(predictions)\r\n",
        "\r\n",
        "cm = confusion_matrix(y_true=test_batches.classes, y_pred=np.argmax(prediction, axis=-1))\r\n",
        "\r\n",
        "def plot_confusion_matrix(cm, classes, normalize=False, title='Confusion_mstrix', cmap=plt.cm.Blues):\r\n",
        "  plt.imshow(cm,interpolation='nearest', cmap=cmap)\r\n",
        "  plt.title(title)\r\n",
        "  plt.colorbar()\r\n",
        "\r\n",
        "cm_plot_labels = ['cat', 'dog']\r\n",
        "plot_confusion_matrix(cm=cm,classes=cm_plot_labels)"
      ],
      "execution_count": null,
      "outputs": []
    }
  ]
}