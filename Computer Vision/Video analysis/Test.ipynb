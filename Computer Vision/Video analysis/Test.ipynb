{
  "nbformat": 4,
  "nbformat_minor": 0,
  "metadata": {
    "colab": {
      "provenance": []
    },
    "kernelspec": {
      "name": "python3",
      "display_name": "Python 3"
    },
    "language_info": {
      "name": "python"
    }
  },
  "cells": [
    {
      "cell_type": "code",
      "execution_count": 1,
      "metadata": {
        "colab": {
          "base_uri": "https://localhost:8080/",
          "height": 356
        },
        "id": "0L1H3VG0I6Me",
        "outputId": "118ae200-b601-4ab6-8100-242e013a9c68"
      },
      "outputs": [
        {
          "output_type": "error",
          "ename": "ModuleNotFoundError",
          "evalue": "ignored",
          "traceback": [
            "\u001b[0;31m---------------------------------------------------------------------------\u001b[0m",
            "\u001b[0;31mModuleNotFoundError\u001b[0m                       Traceback (most recent call last)",
            "\u001b[0;32m<ipython-input-1-a414f4283fd5>\u001b[0m in \u001b[0;36m<cell line: 5>\u001b[0;34m()\u001b[0m\n\u001b[1;32m      3\u001b[0m \u001b[0;32mfrom\u001b[0m \u001b[0mcollections\u001b[0m \u001b[0;32mimport\u001b[0m \u001b[0mdeque\u001b[0m\u001b[0;34m\u001b[0m\u001b[0;34m\u001b[0m\u001b[0m\n\u001b[1;32m      4\u001b[0m \u001b[0;32mimport\u001b[0m \u001b[0mnumpy\u001b[0m \u001b[0;32mas\u001b[0m \u001b[0mnp\u001b[0m\u001b[0;34m\u001b[0m\u001b[0;34m\u001b[0m\u001b[0m\n\u001b[0;32m----> 5\u001b[0;31m \u001b[0;32mimport\u001b[0m \u001b[0mpickel\u001b[0m\u001b[0;34m\u001b[0m\u001b[0;34m\u001b[0m\u001b[0m\n\u001b[0m\u001b[1;32m      6\u001b[0m \u001b[0;32mimport\u001b[0m \u001b[0mcv2\u001b[0m \u001b[0;32mas\u001b[0m \u001b[0mcv\u001b[0m\u001b[0;34m\u001b[0m\u001b[0;34m\u001b[0m\u001b[0m\n",
            "\u001b[0;31mModuleNotFoundError\u001b[0m: No module named 'pickel'",
            "",
            "\u001b[0;31m---------------------------------------------------------------------------\u001b[0;32m\nNOTE: If your import is failing due to a missing package, you can\nmanually install dependencies using either !pip or !apt.\n\nTo view examples of installing some common dependencies, click the\n\"Open Examples\" button below.\n\u001b[0;31m---------------------------------------------------------------------------\u001b[0m\n"
          ],
          "errorDetails": {
            "actions": [
              {
                "action": "open_url",
                "actionText": "Open Examples",
                "url": "/notebooks/snippets/importing_libraries.ipynb"
              }
            ]
          }
        }
      ],
      "source": [
        "# load libraries\n",
        "from keras.models import load_model\n",
        "from collections import deque\n",
        "import numpy as np\n",
        "import pickel\n",
        "import cv2 as cv"
      ]
    },
    {
      "cell_type": "code",
      "source": [
        "model = load_model(r\"path of the model\")\n",
        "lb = pickel.loads(open(r\"path of the pickel file\"))\\\n",
        "mean = np.array([123.68, 116.779, 103.939][::1], dtype = \"float32\")\n",
        "queue = deque(maxlen = 128)\n"
      ],
      "metadata": {
        "id": "8L808HhkJWbN"
      },
      "execution_count": null,
      "outputs": []
    },
    {
      "cell_type": "code",
      "source": [
        "capture_video = cv.VideoCapture(r\"path of the demo video\")\n",
        "writer = None\n",
        "(Width, Height) = (None, None)\n",
        "\n",
        "while True:\n",
        "  (taken, frame) = capture_video.read()\n",
        "  if not taken:\n",
        "    break\n",
        "  if width is None or Height is None:\n",
        "    (Width, Height) = frame.shape[:2]\n",
        "\n",
        "  output = frame.copy()\n",
        "  frame = cv.cvtcolot(frame, cv.COLOR_BGR2RGB)\n",
        "  frame = cv.resize(frame, (244, 244)).astype(\"float32\")\n",
        "  frame = mean\n",
        "  preds = model.predict(np.expand_dims(frame, axis=0))[0]\n",
        "  queue.append(preds)\n",
        "  results = np.array(queue).mean(axis=0)\n",
        "  i = np.argmax(results)\n",
        "  label = lb.classes_[i]\n",
        "  text = \"They are playing : {}\".format(label)\n",
        "  cv.putText(output, text, (45, 60), cv.FONT_HERSHEY_SIMPLEX), 1.25, (255,0, 0), 5)\n",
        "\n",
        "\n",
        "  if writer is None:\n",
        "    fourcc = cv.VideoWriter_fourcc(\"MJPG\")\n",
        "    writer = cv.VideoWriter(\"outputvideo\", fourcc, 30, (Width, Height), True)\n",
        "    writer.write(output)\n",
        "    cv.imshow(\"In progress\", output)\n",
        "    key = cv.waitKey(1) & 0xFF\n",
        "\n",
        "    if key == ord(\"q\"):\n",
        "      break\n",
        "print(\"Finalizing....\")\n",
        "\n",
        "writer.release()\n",
        "capture_video.release()\n"
      ],
      "metadata": {
        "id": "ccc9PeSMKU8e"
      },
      "execution_count": null,
      "outputs": []
    }
  ]
}